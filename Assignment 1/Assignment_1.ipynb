{
 "cells": [
  {
   "cell_type": "code",
   "execution_count": 1,
   "id": "e4f4442e",
   "metadata": {},
   "outputs": [],
   "source": [
    "import numpy as np\n",
    "import tarfile\n",
    "import pandas as pd\n",
    "import os"
   ]
  },
  {
   "cell_type": "markdown",
   "id": "34e00643",
   "metadata": {},
   "source": [
    "## Problem 1"
   ]
  },
  {
   "cell_type": "markdown",
   "id": "d1b16a17",
   "metadata": {},
   "source": [
    "* width and length > 0\n",
    "* width and length numeric"
   ]
  },
  {
   "cell_type": "code",
   "execution_count": 2,
   "id": "20ff91f9",
   "metadata": {},
   "outputs": [],
   "source": [
    "def rectangle_description():\n",
    "    # Ask to input length and width\n",
    "    length = float(input(\"Rectangle length: \"))\n",
    "    width = float(input(\"Rectangle width: \"))\n",
    "    # Calculate function output\n",
    "    perimeter = 2 * (length + width)\n",
    "    diag_length = np.sqrt(length**2 + width**2)\n",
    "    area = length * width\n",
    "    # Print\n",
    "    print(\"Perimeter of rectangle: {0:.1f}\\nLength of diagonal: {1:.4f}\\nArea of rectangle: {2:.1f}\".format(perimeter, diag_length, area))"
   ]
  },
  {
   "cell_type": "code",
   "execution_count": 3,
   "id": "1922befa",
   "metadata": {},
   "outputs": [
    {
     "name": "stdout",
     "output_type": "stream",
     "text": [
      "Rectangle length: 4\n",
      "Rectangle width: 5\n",
      "Perimeter of rectangle: 18.0\n",
      "Length of diagonal: 6.4031\n",
      "Area of rectangle: 20.0\n"
     ]
    }
   ],
   "source": [
    "rectangle_description()"
   ]
  },
  {
   "cell_type": "markdown",
   "id": "bf845cb1",
   "metadata": {},
   "source": [
    "## Problem 2"
   ]
  },
  {
   "cell_type": "markdown",
   "id": "361ef7bd",
   "metadata": {},
   "source": [
    "* check if bottom and top width has the same remainder (i.e., they can decrease by 1)\n",
    "* check if bottom > top"
   ]
  },
  {
   "cell_type": "code",
   "execution_count": 4,
   "id": "fb3db65c",
   "metadata": {},
   "outputs": [],
   "source": [
    "def plinth_volume(width_bottom, width_top):\n",
    "    height = 1\n",
    "    depth = 2\n",
    "    width = width_bottom\n",
    "    volume = 0\n",
    "    # Calculate plinth volume\n",
    "    while width >= width_top:\n",
    "        plinth_vol = height * depth * width\n",
    "        volume += plinth_vol\n",
    "        width -= 1\n",
    "    # Print\n",
    "    print(\"Total volume of plinths: {0:.1f}\".format(volume))"
   ]
  },
  {
   "cell_type": "code",
   "execution_count": 5,
   "id": "34fa4a20",
   "metadata": {},
   "outputs": [
    {
     "name": "stdout",
     "output_type": "stream",
     "text": [
      "Total volume of plinths: 66.0\n"
     ]
    }
   ],
   "source": [
    "plinth_volume(8,3)"
   ]
  },
  {
   "cell_type": "markdown",
   "id": "cd40262c",
   "metadata": {},
   "source": [
    "## Problem 3"
   ]
  },
  {
   "cell_type": "markdown",
   "id": "c0ab8b97",
   "metadata": {},
   "source": [
    "##### Assumption 1 - column names and order is the same for all csv files"
   ]
  },
  {
   "cell_type": "code",
   "execution_count": 6,
   "id": "5fa81159",
   "metadata": {},
   "outputs": [],
   "source": [
    "# Extract everything from tar.gz archive\n",
    "tar = tarfile.open(\"A1.tar.gz\", \"r:gz\")\n",
    "tar.extractall()\n",
    "tar.close()"
   ]
  },
  {
   "cell_type": "code",
   "execution_count": 7,
   "id": "fbf47392",
   "metadata": {},
   "outputs": [],
   "source": [
    "# Combine extracted csv's\n",
    "## Make an empty data frame that will be appended with each countries' data\n",
    "df_all_countries = pd.DataFrame()\n",
    "## Iterate over all files in the \"data\" directory\n",
    "for country in os.scandir(\"data\"):\n",
    "    ## Read csv file\n",
    "    df_temp = pd.read_csv(\"data/\" + country.name)\n",
    "    ## Add a column \"Country\" to the data frame which contains the name of the csv file (without the extension)\n",
    "    df_temp['Country'] = country.name.split(\".\")[0]\n",
    "    ## Append country data frame to final data frame\n",
    "    df_all_countries = pd.concat([df_all_countries, df_temp], axis=0)"
   ]
  },
  {
   "cell_type": "code",
   "execution_count": 8,
   "id": "2af166f0",
   "metadata": {},
   "outputs": [
    {
     "data": {
      "text/html": [
       "<div>\n",
       "<style scoped>\n",
       "    .dataframe tbody tr th:only-of-type {\n",
       "        vertical-align: middle;\n",
       "    }\n",
       "\n",
       "    .dataframe tbody tr th {\n",
       "        vertical-align: top;\n",
       "    }\n",
       "\n",
       "    .dataframe thead th {\n",
       "        text-align: right;\n",
       "    }\n",
       "</style>\n",
       "<table border=\"1\" class=\"dataframe\">\n",
       "  <thead>\n",
       "    <tr style=\"text-align: right;\">\n",
       "      <th></th>\n",
       "      <th>Healthcare_count</th>\n",
       "    </tr>\n",
       "    <tr>\n",
       "      <th>Country</th>\n",
       "      <th></th>\n",
       "    </tr>\n",
       "  </thead>\n",
       "  <tbody>\n",
       "    <tr>\n",
       "      <th>Austria</th>\n",
       "      <td>266</td>\n",
       "    </tr>\n",
       "    <tr>\n",
       "      <th>Belgium</th>\n",
       "      <td>272</td>\n",
       "    </tr>\n",
       "    <tr>\n",
       "      <th>Bulgaria</th>\n",
       "      <td>673</td>\n",
       "    </tr>\n",
       "    <tr>\n",
       "      <th>Croatia</th>\n",
       "      <td>61</td>\n",
       "    </tr>\n",
       "    <tr>\n",
       "      <th>Cyprus</th>\n",
       "      <td>11</td>\n",
       "    </tr>\n",
       "    <tr>\n",
       "      <th>Czechia</th>\n",
       "      <td>248</td>\n",
       "    </tr>\n",
       "    <tr>\n",
       "      <th>Denmark</th>\n",
       "      <td>61</td>\n",
       "    </tr>\n",
       "    <tr>\n",
       "      <th>Finland</th>\n",
       "      <td>372</td>\n",
       "    </tr>\n",
       "    <tr>\n",
       "      <th>France</th>\n",
       "      <td>5368</td>\n",
       "    </tr>\n",
       "    <tr>\n",
       "      <th>Germany</th>\n",
       "      <td>2809</td>\n",
       "    </tr>\n",
       "    <tr>\n",
       "      <th>Greece</th>\n",
       "      <td>125</td>\n",
       "    </tr>\n",
       "    <tr>\n",
       "      <th>Hungary</th>\n",
       "      <td>135</td>\n",
       "    </tr>\n",
       "    <tr>\n",
       "      <th>Ireland</th>\n",
       "      <td>199</td>\n",
       "    </tr>\n",
       "    <tr>\n",
       "      <th>Italy</th>\n",
       "      <td>1283</td>\n",
       "    </tr>\n",
       "    <tr>\n",
       "      <th>Latvia</th>\n",
       "      <td>44</td>\n",
       "    </tr>\n",
       "    <tr>\n",
       "      <th>Lithuania</th>\n",
       "      <td>142</td>\n",
       "    </tr>\n",
       "    <tr>\n",
       "      <th>Luxembourg</th>\n",
       "      <td>21</td>\n",
       "    </tr>\n",
       "    <tr>\n",
       "      <th>Malta</th>\n",
       "      <td>9</td>\n",
       "    </tr>\n",
       "    <tr>\n",
       "      <th>Netherlands</th>\n",
       "      <td>245</td>\n",
       "    </tr>\n",
       "    <tr>\n",
       "      <th>Norway</th>\n",
       "      <td>640</td>\n",
       "    </tr>\n",
       "    <tr>\n",
       "      <th>Poland</th>\n",
       "      <td>466</td>\n",
       "    </tr>\n",
       "    <tr>\n",
       "      <th>Portugal</th>\n",
       "      <td>94</td>\n",
       "    </tr>\n",
       "    <tr>\n",
       "      <th>Romania</th>\n",
       "      <td>179</td>\n",
       "    </tr>\n",
       "    <tr>\n",
       "      <th>Slovakia</th>\n",
       "      <td>128</td>\n",
       "    </tr>\n",
       "    <tr>\n",
       "      <th>Slovenia</th>\n",
       "      <td>31</td>\n",
       "    </tr>\n",
       "    <tr>\n",
       "      <th>Spain</th>\n",
       "      <td>809</td>\n",
       "    </tr>\n",
       "    <tr>\n",
       "      <th>Sweden</th>\n",
       "      <td>132</td>\n",
       "    </tr>\n",
       "    <tr>\n",
       "      <th>Switzerland</th>\n",
       "      <td>358</td>\n",
       "    </tr>\n",
       "  </tbody>\n",
       "</table>\n",
       "</div>"
      ],
      "text/plain": [
       "             Healthcare_count\n",
       "Country                      \n",
       "Austria                   266\n",
       "Belgium                   272\n",
       "Bulgaria                  673\n",
       "Croatia                    61\n",
       "Cyprus                     11\n",
       "Czechia                   248\n",
       "Denmark                    61\n",
       "Finland                   372\n",
       "France                   5368\n",
       "Germany                  2809\n",
       "Greece                    125\n",
       "Hungary                   135\n",
       "Ireland                   199\n",
       "Italy                    1283\n",
       "Latvia                     44\n",
       "Lithuania                 142\n",
       "Luxembourg                 21\n",
       "Malta                       9\n",
       "Netherlands               245\n",
       "Norway                    640\n",
       "Poland                    466\n",
       "Portugal                   94\n",
       "Romania                   179\n",
       "Slovakia                  128\n",
       "Slovenia                   31\n",
       "Spain                     809\n",
       "Sweden                    132\n",
       "Switzerland               358"
      ]
     },
     "execution_count": 8,
     "metadata": {},
     "output_type": "execute_result"
    }
   ],
   "source": [
    "# Count of rows for each countries csv\n",
    "df_all_countries.groupby('Country').agg(Healthcare_count = ('Country', 'size'))"
   ]
  },
  {
   "cell_type": "code",
   "execution_count": 9,
   "id": "3ffc72d6",
   "metadata": {},
   "outputs": [
    {
     "data": {
      "text/plain": [
       "Country\n",
       "Austria         266\n",
       "Belgium         272\n",
       "Bulgaria        673\n",
       "Croatia          61\n",
       "Cyprus           11\n",
       "Czechia         248\n",
       "Denmark          61\n",
       "Finland         372\n",
       "France         5368\n",
       "Germany        2809\n",
       "Greece          125\n",
       "Hungary         135\n",
       "Ireland         199\n",
       "Italy          1283\n",
       "Latvia           44\n",
       "Lithuania       142\n",
       "Luxembourg       21\n",
       "Malta             9\n",
       "Netherlands     245\n",
       "Norway          640\n",
       "Poland          466\n",
       "Portugal         94\n",
       "Romania         179\n",
       "Slovakia        128\n",
       "Slovenia         31\n",
       "Spain           809\n",
       "Sweden          132\n",
       "Switzerland     358\n",
       "dtype: int64"
      ]
     },
     "execution_count": 9,
     "metadata": {},
     "output_type": "execute_result"
    }
   ],
   "source": [
    "df_all_countries.value_counts('Country', sort=False)"
   ]
  },
  {
   "cell_type": "code",
   "execution_count": null,
   "id": "3db1493c",
   "metadata": {},
   "outputs": [],
   "source": []
  }
 ],
 "metadata": {
  "kernelspec": {
   "display_name": "Python 3 (ipykernel)",
   "language": "python",
   "name": "python3"
  },
  "language_info": {
   "codemirror_mode": {
    "name": "ipython",
    "version": 3
   },
   "file_extension": ".py",
   "mimetype": "text/x-python",
   "name": "python",
   "nbconvert_exporter": "python",
   "pygments_lexer": "ipython3",
   "version": "3.10.6"
  }
 },
 "nbformat": 4,
 "nbformat_minor": 5
}
